{
 "cells": [
  {
   "cell_type": "code",
   "execution_count": 5,
   "metadata": {},
   "outputs": [],
   "source": [
    "# Dependencies\n",
    "from bs4 import BeautifulSoup\n",
    "import requests\n",
    "from splinter import Browser\n",
    "import time\n",
    "import pandas as pd"
   ]
  },
  {
   "cell_type": "markdown",
   "metadata": {},
   "source": [
    "# NASA Mars News"
   ]
  },
  {
   "cell_type": "code",
   "execution_count": null,
   "metadata": {},
   "outputs": [],
   "source": [
    "mission_to_mars ={}\n",
    "\n",
    "executable_path = {'executable_path': '/usr/local/bin/chromedriver'}\n",
    "browser = Browser('chrome', **executable_path, headless=False)\n",
    "\n",
    "url = 'https://mars.nasa.gov/news/'\n",
    "browser.visit(url)\n",
    "time.sleep(1)\n",
    "news_html = browser.html\n",
    "# response = requests.get(url)\n",
    "soup = BeautifulSoup(news_html, 'html.parser')"
   ]
  },
  {
   "cell_type": "code",
   "execution_count": null,
   "metadata": {},
   "outputs": [],
   "source": [
    "# results are returned as an iterable list\n",
    "results = soup.find('div', class_=\"slide\")\n",
    "news_title = results.find('div', class_=\"content_title\").text\n",
    "news_p = results.find('div',class_=\"rollover_description_inner\").text\n",
    "# print(f\"Title: {news_title}\")\n",
    "# print(f\"Description: {news_p}\")\n",
    "mission_to_mars['news_title'] = news_title\n",
    "mission_to_mars['news_description'] = news_p\n"
   ]
  },
  {
   "cell_type": "markdown",
   "metadata": {},
   "source": [
    "# JPL Mars Space Images - Featured Image"
   ]
  },
  {
   "cell_type": "code",
   "execution_count": null,
   "metadata": {},
   "outputs": [],
   "source": [
    "executable_path = {'executable_path': '/usr/local/bin/chromedriver'}\n",
    "browser = Browser('chrome', **executable_path, headless=False)\n",
    "\n",
    "url = 'https://www.jpl.nasa.gov/spaceimages/?search=&category=Mars'\n",
    "browser.visit(url)\n",
    "\n",
    "time.sleep(1)\n",
    "browser.click_link_by_partial_text('FULL IMAGE')\n",
    "\n",
    "# html = browser.html\n",
    "# featured_image_soup = BeautifulSoup(html,'html.parser')\n",
    "\n",
    "# buttons = featured_image_soup.find('div', class_='addthis_toolbox')\n",
    "# more_info_button = buttons.find.a['button'].text\n",
    "# more_info_button\n",
    "\n",
    "\n",
    "time.sleep(1)\n",
    "\n",
    "\n",
    "# Find \"More Info\" Button and Click It\n",
    "browser.is_element_present_by_text(\"more info\", wait_time=1)\n",
    "more_info_element = browser.find_link_by_partial_text(\"more info\")\n",
    "more_info_element.click()\n",
    "\n",
    "time.sleep(1)\n",
    "html = browser.html\n",
    "featured_image_soup = BeautifulSoup(html,'html.parser')\n",
    "# print(featured_image_soup.prettify())\n",
    "\n",
    "figure = featured_image_soup.find('figure', class_=\"lede\")\n",
    "featured_image_url = figure.img['src']\n",
    "featured_image_url = f\"https://www.jpl.nasa.gov{featured_image_url}\"\n",
    "# print(featured_image_url)\n",
    "mission_to_mars['featured_image_url'] = featured_image_url"
   ]
  },
  {
   "cell_type": "code",
   "execution_count": null,
   "metadata": {},
   "outputs": [],
   "source": [
    "\n",
    "buttons = featured_image_soup.find_by_css('a.button')\n",
    "# more_info_button = buttons.find_all('a')\n",
    "buttons"
   ]
  },
  {
   "cell_type": "markdown",
   "metadata": {},
   "source": [
    "# Mars Weather"
   ]
  },
  {
   "cell_type": "code",
   "execution_count": null,
   "metadata": {},
   "outputs": [],
   "source": [
    "url =  'https://twitter.com/marswxreport?lang=en'\n",
    "browser.visit(url)\n",
    "time.sleep(1)"
   ]
  },
  {
   "cell_type": "code",
   "execution_count": null,
   "metadata": {},
   "outputs": [],
   "source": [
    "twitter_html = browser.html\n",
    "twitter_soup = BeautifulSoup(twitter_html,'html.parser')\n",
    "# print(twitter_soup.prettify())\n",
    "\n",
    "tweets = twitter_soup.find('div', class_='js-tweet-text-container')\n",
    "mars_weather = tweets.find('p', class_=\"tweet-text\").text\n",
    "# mars_weather\n",
    "mission_to_mars['mars_weather'] = mars_weather"
   ]
  },
  {
   "cell_type": "markdown",
   "metadata": {},
   "source": [
    "# Mars Facts"
   ]
  },
  {
   "cell_type": "code",
   "execution_count": null,
   "metadata": {},
   "outputs": [],
   "source": [
    "url = 'https://space-facts.com/mars/'\n",
    "browser.visit(url)\n",
    "time.sleep(1)\n",
    "\n",
    "tables = pd.read_html(url)\n",
    "mars_facts_df = tables[1]\n",
    "mars_facts_df.columns=['Mars','Facts']\n",
    "# mars_facts_df\n",
    "mission_to_mars['mars_facts_df'] = mars_facts_df"
   ]
  },
  {
   "cell_type": "markdown",
   "metadata": {},
   "source": [
    "# Mars Hemisphers"
   ]
  },
  {
   "cell_type": "code",
   "execution_count": 72,
   "metadata": {},
   "outputs": [
    {
     "data": {
      "text/plain": [
       "[{'title': 'Cerberus Hemisphere',\n",
       "  'img_url': 'https://astrogeology.usgs.govhttp://astropedia.astrogeology.usgs.gov/download/Mars/Viking/cerberus_enhanced.tif/full.jpg'},\n",
       " {'title': 'Schiaparelli Hemisphere',\n",
       "  'img_url': 'https://astrogeology.usgs.govhttp://astropedia.astrogeology.usgs.gov/download/Mars/Viking/schiaparelli_enhanced.tif/full.jpg'},\n",
       " {'title': 'Syrtis Major Hemisphere',\n",
       "  'img_url': 'https://astrogeology.usgs.govhttp://astropedia.astrogeology.usgs.gov/download/Mars/Viking/syrtis_major_enhanced.tif/full.jpg'},\n",
       " {'title': 'Valles Marineris Hemisphere',\n",
       "  'img_url': 'https://astrogeology.usgs.govhttp://astropedia.astrogeology.usgs.gov/download/Mars/Viking/valles_marineris_enhanced.tif/full.jpg'}]"
      ]
     },
     "execution_count": 72,
     "metadata": {},
     "output_type": "execute_result"
    }
   ],
   "source": [
    "executable_path = {'executable_path': '/usr/local/bin/chromedriver'}\n",
    "browser = Browser('chrome', **executable_path, headless=False)\n",
    "\n",
    "url =  'https://astrogeology.usgs.gov/search/results?q=hemisphere+enhanced&k1=target&v1=Mars'\n",
    "browser.visit(url)\n",
    "time.sleep(1)\n",
    "#\n",
    "\n",
    "\n",
    "\n",
    "hem_html = browser.html\n",
    "hem_soup = BeautifulSoup(hem_html,'html.parser')\n",
    "\n",
    "hems_dict =[]\n",
    "hems = hem_soup.find_all('div', class_='item')\n",
    "\n",
    "\n",
    "######\n",
    "\n",
    "# hems\n",
    "\n",
    "\n",
    "# hem_url = hems[0].a['href']\n",
    "\n",
    "# # hem_url\n",
    "# browser.visit('https://astrogeology.usgs.gov' + hem_url[0])\n",
    "\n",
    "# hem_img_html = browser.html\n",
    "# hem_img_soup = BeautifulSoup(hem_img_html,'html.parser')\n",
    "# hem_img_url = hem_img_soup.find('div', class_'wide_image)\n",
    "# hem_img_url = hem_img_url.find('img', class_'wide_image)\n",
    "# hem_img_url                                \n",
    "                                \n",
    "\n",
    "\n",
    "                                \n",
    "                                \n",
    "# # hem_img_url = hem_img_url[1].a['href']\n",
    "\n",
    "# # hem_dict ={'title': hem_name, 'img_url': hem_img_url}\n",
    "# # hems_dict.append(hem_dict)\n",
    "# # browser.back()\n",
    "\n",
    "\n",
    "#######\n",
    "\n",
    "\n",
    "\n",
    "\n",
    "for hem in hems:\n",
    "    \n",
    "    time.sleep(1)\n",
    "    hem_dict = {}\n",
    "\n",
    "    hem_name = hem.find('h3').text\n",
    "    hem_name = hem_name.split(' Enhanced')\n",
    "    hem_name = hem_name[0]\n",
    "    hem_url = hem.a['href']\n",
    "    browser.visit('https://astrogeology.usgs.gov' + hem_url)\n",
    "    \n",
    "    hem_img_html = browser.html\n",
    "    hem_img_soup = BeautifulSoup(hem_img_html,'html.parser')\n",
    "    hem_img_url = hem_img_soup.find('a', text='Sample').get('href')\n",
    "    \n",
    "    hem_dict ={'title': hem_name, 'img_url': hem_img_url}\n",
    "    hems_dict.append(hem_dict)\n",
    "    browser.back()\n",
    "    \n",
    "\n",
    "# hems_dict"
   ]
  },
  {
   "cell_type": "code",
   "execution_count": null,
   "metadata": {},
   "outputs": [],
   "source": []
  },
  {
   "cell_type": "code",
   "execution_count": 29,
   "metadata": {},
   "outputs": [
    {
     "ename": "NameError",
     "evalue": "name 'mission_to_mars' is not defined",
     "output_type": "error",
     "traceback": [
      "\u001b[0;31m---------------------------------------------------------------------------\u001b[0m",
      "\u001b[0;31mNameError\u001b[0m                                 Traceback (most recent call last)",
      "\u001b[0;32m<ipython-input-29-1e7153c23079>\u001b[0m in \u001b[0;36m<module>\u001b[0;34m\u001b[0m\n\u001b[1;32m      1\u001b[0m \u001b[0;31m# hemisphere_image_urls\u001b[0m\u001b[0;34m\u001b[0m\u001b[0;34m\u001b[0m\u001b[0;34m\u001b[0m\u001b[0m\n\u001b[0;32m----> 2\u001b[0;31m \u001b[0mmission_to_mars\u001b[0m\u001b[0;34m[\u001b[0m\u001b[0;34m'hemisphere_image_urls'\u001b[0m\u001b[0;34m]\u001b[0m \u001b[0;34m=\u001b[0m \u001b[0mhems_dict\u001b[0m\u001b[0;34m\u001b[0m\u001b[0;34m\u001b[0m\u001b[0m\n\u001b[0m\u001b[1;32m      3\u001b[0m \u001b[0mbrowser\u001b[0m\u001b[0;34m.\u001b[0m\u001b[0mquit\u001b[0m\u001b[0;34m(\u001b[0m\u001b[0;34m)\u001b[0m\u001b[0;34m\u001b[0m\u001b[0;34m\u001b[0m\u001b[0m\n",
      "\u001b[0;31mNameError\u001b[0m: name 'mission_to_mars' is not defined"
     ]
    }
   ],
   "source": [
    "# hemisphere_image_urls\n",
    "mission_to_mars['hemisphere_image_urls'] = hems_dict\n",
    "browser.quit()\n"
   ]
  },
  {
   "cell_type": "code",
   "execution_count": null,
   "metadata": {},
   "outputs": [],
   "source": [
    "mission_to_mars"
   ]
  },
  {
   "cell_type": "code",
   "execution_count": null,
   "metadata": {},
   "outputs": [],
   "source": []
  }
 ],
 "metadata": {
  "kernelspec": {
   "display_name": "Conda [PythonData]",
   "language": "python",
   "name": "pythondata"
  },
  "language_info": {
   "codemirror_mode": {
    "name": "ipython",
    "version": 3
   },
   "file_extension": ".py",
   "mimetype": "text/x-python",
   "name": "python",
   "nbconvert_exporter": "python",
   "pygments_lexer": "ipython3",
   "version": "3.7.3"
  }
 },
 "nbformat": 4,
 "nbformat_minor": 2
}
