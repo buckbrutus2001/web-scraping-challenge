{
 "cells": [
  {
   "cell_type": "code",
   "execution_count": 12,
   "metadata": {},
   "outputs": [],
   "source": [
    "# Dependencies\n",
    "from bs4 import BeautifulSoup\n",
    "import requests\n",
    "from splinter import Browser\n",
    "import time\n",
    "import pandas as pd"
   ]
  },
  {
   "cell_type": "markdown",
   "metadata": {},
   "source": [
    "# NASA Mars News"
   ]
  },
  {
   "cell_type": "code",
   "execution_count": 13,
   "metadata": {},
   "outputs": [],
   "source": [
    "mission_to_mars ={}\n",
    "\n",
    "executable_path = {'executable_path': '/usr/local/bin/chromedriver'}\n",
    "browser = Browser('chrome', **executable_path, headless=False)\n",
    "\n",
    "url = 'https://mars.nasa.gov/news/'\n",
    "browser.visit(url)\n",
    "time.sleep(1)\n",
    "news_html = browser.html\n",
    "# response = requests.get(url)\n",
    "soup = BeautifulSoup(news_html, 'html.parser')"
   ]
  },
  {
   "cell_type": "code",
   "execution_count": 14,
   "metadata": {},
   "outputs": [],
   "source": [
    "# results are returned as an iterable list\n",
    "results = soup.find('div', class_=\"slide\")\n",
    "news_title = results.find('div', class_=\"content_title\").text\n",
    "news_p = results.find('div',class_=\"rollover_description_inner\").text\n",
    "# print(f\"Title: {news_title}\")\n",
    "# print(f\"Description: {news_p}\")\n",
    "mission_to_mars['news_title'] = news_title\n",
    "mission_to_mars['news_description'] = news_p\n"
   ]
  },
  {
   "cell_type": "markdown",
   "metadata": {},
   "source": [
    "# JPL Mars Space Images - Featured Image"
   ]
  },
  {
   "cell_type": "code",
   "execution_count": 60,
   "metadata": {},
   "outputs": [],
   "source": [
    "executable_path = {'executable_path': '/usr/local/bin/chromedriver'}\n",
    "browser = Browser('chrome', **executable_path, headless=False)\n",
    "\n",
    "url = 'https://www.jpl.nasa.gov/spaceimages/?search=&category=Mars'\n",
    "browser.visit(url)\n",
    "\n",
    "time.sleep(1)\n",
    "browser.click_link_by_partial_text('FULL IMAGE')\n",
    "\n",
    "# html = browser.html\n",
    "# featured_image_soup = BeautifulSoup(html,'html.parser')\n",
    "\n",
    "# buttons = featured_image_soup.find('div', class_='addthis_toolbox')\n",
    "# more_info_button = buttons.find.a['button'].text\n",
    "# more_info_button\n",
    "\n",
    "\n",
    "time.sleep(1)\n",
    "\n",
    "\n",
    "# Find \"More Info\" Button and Click It\n",
    "browser.is_element_present_by_text(\"more info\", wait_time=1)\n",
    "more_info_element = browser.find_link_by_partial_text(\"more info\")\n",
    "more_info_element.click()\n",
    "\n",
    "time.sleep(1)\n",
    "html = browser.html\n",
    "featured_image_soup = BeautifulSoup(html,'html.parser')\n",
    "# print(featured_image_soup.prettify())\n",
    "\n",
    "figure = featured_image_soup.find('figure', class_=\"lede\")\n",
    "featured_image_url = figure.img['src']\n",
    "featured_image_url = f\"https://www.jpl.nasa.gov{featured_image_url}\"\n",
    "# print(featured_image_url)\n",
    "mission_to_mars['featured_image_url'] = featured_image_url"
   ]
  },
  {
   "cell_type": "code",
   "execution_count": 59,
   "metadata": {},
   "outputs": [
    {
     "ename": "TypeError",
     "evalue": "'NoneType' object is not callable",
     "output_type": "error",
     "traceback": [
      "\u001b[0;31m---------------------------------------------------------------------------\u001b[0m",
      "\u001b[0;31mTypeError\u001b[0m                                 Traceback (most recent call last)",
      "\u001b[0;32m<ipython-input-59-8f41564d4fef>\u001b[0m in \u001b[0;36m<module>\u001b[0;34m\u001b[0m\n\u001b[0;32m----> 1\u001b[0;31m \u001b[0mbuttons\u001b[0m \u001b[0;34m=\u001b[0m \u001b[0mfeatured_image_soup\u001b[0m\u001b[0;34m.\u001b[0m\u001b[0mfind_by_css\u001b[0m\u001b[0;34m(\u001b[0m\u001b[0;34m'a.button'\u001b[0m\u001b[0;34m)\u001b[0m\u001b[0;34m\u001b[0m\u001b[0;34m\u001b[0m\u001b[0m\n\u001b[0m\u001b[1;32m      2\u001b[0m \u001b[0;31m# more_info_button = buttons.find_all('a')\u001b[0m\u001b[0;34m\u001b[0m\u001b[0;34m\u001b[0m\u001b[0;34m\u001b[0m\u001b[0m\n\u001b[1;32m      3\u001b[0m \u001b[0mbuttons\u001b[0m\u001b[0;34m\u001b[0m\u001b[0;34m\u001b[0m\u001b[0m\n",
      "\u001b[0;31mTypeError\u001b[0m: 'NoneType' object is not callable"
     ]
    }
   ],
   "source": [
    "\n",
    "buttons = featured_image_soup.find_by_css('a.button')\n",
    "# more_info_button = buttons.find_all('a')\n",
    "buttons"
   ]
  },
  {
   "cell_type": "markdown",
   "metadata": {},
   "source": [
    "# Mars Weather"
   ]
  },
  {
   "cell_type": "code",
   "execution_count": 5,
   "metadata": {},
   "outputs": [],
   "source": [
    "url =  'https://twitter.com/marswxreport?lang=en'\n",
    "browser.visit(url)\n",
    "time.sleep(1)"
   ]
  },
  {
   "cell_type": "code",
   "execution_count": 6,
   "metadata": {},
   "outputs": [],
   "source": [
    "twitter_html = browser.html\n",
    "twitter_soup = BeautifulSoup(twitter_html,'html.parser')\n",
    "# print(twitter_soup.prettify())\n",
    "\n",
    "tweets = twitter_soup.find('div', class_='js-tweet-text-container')\n",
    "mars_weather = tweets.find('p', class_=\"tweet-text\").text\n",
    "# mars_weather\n",
    "mission_to_mars['mars_weather'] = mars_weather"
   ]
  },
  {
   "cell_type": "markdown",
   "metadata": {},
   "source": [
    "# Mars Facts"
   ]
  },
  {
   "cell_type": "code",
   "execution_count": 7,
   "metadata": {},
   "outputs": [],
   "source": [
    "url = 'https://space-facts.com/mars/'\n",
    "browser.visit(url)\n",
    "time.sleep(1)\n",
    "\n",
    "tables = pd.read_html(url)\n",
    "mars_facts_df = tables[1]\n",
    "mars_facts_df.columns=['Mars','Facts']\n",
    "# mars_facts_df\n",
    "mission_to_mars['mars_facts_df'] = mars_facts_df"
   ]
  },
  {
   "cell_type": "markdown",
   "metadata": {},
   "source": [
    "# Mars Hemisphers"
   ]
  },
  {
   "cell_type": "code",
   "execution_count": 8,
   "metadata": {},
   "outputs": [],
   "source": [
    "# executable_path = {'executable_path': '/usr/local/bin/chromedriver'}\n",
    "# browser = Browser('chrome', **executable_path, headless=False)\n",
    "\n",
    "url =  'https://astrogeology.usgs.gov/search/results?q=hemisphere+enhanced&k1=target&v1=Mars'\n",
    "browser.visit(url)\n",
    "time.sleep(1)\n"
   ]
  },
  {
   "cell_type": "code",
   "execution_count": 9,
   "metadata": {},
   "outputs": [],
   "source": [
    "\n",
    "\n",
    "\n",
    "\n",
    "hem_html = browser.html\n",
    "hem_soup = BeautifulSoup(hem_html,'html.parser')\n",
    "\n",
    "hems_dict =[]\n",
    "hems = hem_soup.find_all('div', class_='item')\n",
    "\n",
    "\n",
    "for hem in hems:\n",
    "    \n",
    "    time.sleep(1)\n",
    "    hem_dict = {}\n",
    "\n",
    "    hem_name = hem.find('h3').text\n",
    "    hem_name = hem_name.split(' Enhanced')\n",
    "\n",
    "    hem_url = hem.a['href']\n",
    "    browser.visit('https://astrogeology.usgs.gov' + hem_url)\n",
    "    \n",
    "    hem_img_html = browser.html\n",
    "    hem_img_soup = BeautifulSoup(hem_img_html,'html.parser')\n",
    "    hem_img_url = hem_img_soup.find_all('li')\n",
    "    hem_img_url = hem_img_url[1].a['href']\n",
    "    \n",
    "    hem_dict ={'title': hem_name, 'img_url': hem_img_url}\n",
    "    hems_dict.append(hem_dict)\n",
    "    browser.back()\n",
    "    \n",
    "\n",
    "# hems_dict"
   ]
  },
  {
   "cell_type": "code",
   "execution_count": 10,
   "metadata": {},
   "outputs": [],
   "source": [
    "# hemisphere_image_urls\n",
    "mission_to_mars['hemisphere_image_urls'] = hems_dict\n",
    "browser.quit()\n"
   ]
  },
  {
   "cell_type": "code",
   "execution_count": 11,
   "metadata": {},
   "outputs": [
    {
     "data": {
      "text/plain": [
       "{'news_title': '\\n\\nNASA Garners 7 Webby Award Nominations\\n\\n',\n",
       " 'news_description': '\\nNominees include four JPL projects: the solar system and climate websites, InSight social media, and a 360-degree Earth video. Public voting closes April 18, 2019.\\n',\n",
       " 'featured_image_url': 'https://www.jpl.nasa.gov/spaceimages/images/largesize/PIA17474_hires.jpg',\n",
       " 'mars_weather': 'InSight sol 317 (2019-10-18) low -103.2ºC (-153.8ºF) high -26.2ºC (-15.2ºF)\\nwinds from the SSE at 5.6 m/s (12.5 mph) gusting to 22.2 m/s (49.7 mph)\\npressure at 7.10 hPapic.twitter.com/LNDEvGwVDw',\n",
       " 'mars_facts_df':                    Mars                          Facts\n",
       " 0  Equatorial Diameter:                       6,792 km\n",
       " 1       Polar Diameter:                       6,752 km\n",
       " 2                 Mass:  6.39 × 10^23 kg (0.11 Earths)\n",
       " 3                Moons:            2 (Phobos & Deimos)\n",
       " 4       Orbit Distance:       227,943,824 km (1.38 AU)\n",
       " 5         Orbit Period:           687 days (1.9 years)\n",
       " 6  Surface Temperature:                   -87 to -5 °C\n",
       " 7         First Record:              2nd millennium BC\n",
       " 8          Recorded By:           Egyptian astronomers,\n",
       " 'hemisphere_image_urls': [{'title': ['Cerberus Hemisphere', ''],\n",
       "   'img_url': 'http://astropedia.astrogeology.usgs.gov/download/Mars/Viking/cerberus_enhanced.tif'},\n",
       "  {'title': ['Schiaparelli Hemisphere', ''],\n",
       "   'img_url': 'http://astropedia.astrogeology.usgs.gov/download/Mars/Viking/schiaparelli_enhanced.tif'},\n",
       "  {'title': ['Syrtis Major Hemisphere', ''],\n",
       "   'img_url': 'http://astropedia.astrogeology.usgs.gov/download/Mars/Viking/syrtis_major_enhanced.tif'},\n",
       "  {'title': ['Valles Marineris Hemisphere', ''],\n",
       "   'img_url': 'http://astropedia.astrogeology.usgs.gov/download/Mars/Viking/valles_marineris_enhanced.tif'}]}"
      ]
     },
     "execution_count": 11,
     "metadata": {},
     "output_type": "execute_result"
    }
   ],
   "source": [
    "mission_to_mars"
   ]
  },
  {
   "cell_type": "code",
   "execution_count": null,
   "metadata": {},
   "outputs": [],
   "source": []
  }
 ],
 "metadata": {
  "kernelspec": {
   "display_name": "Conda [PythonData]",
   "language": "python",
   "name": "pythondata"
  },
  "language_info": {
   "codemirror_mode": {
    "name": "ipython",
    "version": 3
   },
   "file_extension": ".py",
   "mimetype": "text/x-python",
   "name": "python",
   "nbconvert_exporter": "python",
   "pygments_lexer": "ipython3",
   "version": "3.7.3"
  }
 },
 "nbformat": 4,
 "nbformat_minor": 2
}
